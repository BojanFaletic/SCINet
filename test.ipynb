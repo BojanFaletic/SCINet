{
 "cells": [
  {
   "cell_type": "code",
   "execution_count": 89,
   "metadata": {},
   "outputs": [
    {
     "name": "stdout",
     "output_type": "stream",
     "text": [
      "The autoreload extension is already loaded. To reload it, use:\n",
      "  %reload_ext autoreload\n"
     ]
    }
   ],
   "source": [
    "%load_ext autoreload\n",
    "%autoreload 2\n",
    "\n",
    "import torch as th\n",
    "import numpy as np\n",
    "import matplotlib.pyplot as plt\n",
    "\n",
    "from SCINet import *\n",
    "from torchinfo import summary\n"
   ]
  },
  {
   "cell_type": "code",
   "execution_count": 116,
   "metadata": {},
   "outputs": [],
   "source": [
    "ld = load_data()"
   ]
  },
  {
   "cell_type": "code",
   "execution_count": 117,
   "metadata": {},
   "outputs": [],
   "source": [
    "train_loader, test_loader = create_loaders(ld)"
   ]
  },
  {
   "cell_type": "code",
   "execution_count": 118,
   "metadata": {},
   "outputs": [],
   "source": [
    "net = SCINet_block()\n",
    "net_lstm = LSTM()"
   ]
  },
  {
   "cell_type": "code",
   "execution_count": 130,
   "metadata": {},
   "outputs": [
    {
     "name": "stdout",
     "output_type": "stream",
     "text": [
      "Total loss:  8.7027\n",
      "Total loss:  27.3957\n"
     ]
    },
    {
     "data": {
      "text/plain": [
       "(None, None)"
      ]
     },
     "execution_count": 130,
     "metadata": {},
     "output_type": "execute_result"
    }
   ],
   "source": [
    "evaluate(net, test_loader), evaluate(net_lstm, test_loader)"
   ]
  },
  {
   "cell_type": "code",
   "execution_count": 114,
   "metadata": {},
   "outputs": [],
   "source": [
    "# window sz = 40 samples (10k samples)\n",
    "#Total loss:  20.0502\n",
    "#Total loss:  40.8646\n",
    "\n",
    "# window sz = 80 samples\n",
    "#Total loss:  19.7309\n",
    "\n",
    "# window sz = 40 samples (20k samples)\n",
    "#Total loss:  10.9736\n",
    "\n",
    "# window sz = 40 samples (25k samples)\n",
    "# Total loss:  8.7027\n",
    "# Total loss:  27.3957\n"
   ]
  },
  {
   "cell_type": "code",
   "execution_count": 126,
   "metadata": {},
   "outputs": [
    {
     "name": "stdout",
     "output_type": "stream",
     "text": [
      "[1/50] Total loss:  4.0021e-02\n",
      "[2/50] Total loss:  2.4283e-03\n",
      "[3/50] Total loss:  1.5015e-03\n",
      "[4/50] Total loss:  1.2483e-03\n",
      "[5/50] Total loss:  1.1240e-03\n",
      "[6/50] Total loss:  1.0408e-03\n",
      "[7/50] Total loss:  9.6073e-04\n",
      "[8/50] Total loss:  8.9747e-04\n",
      "[9/50] Total loss:  8.6056e-04\n",
      "[10/50] Total loss:  8.1268e-04\tTotal loss:  34.2375\n",
      "[11/50] Total loss:  7.7355e-04\n",
      "[12/50] Total loss:  7.5171e-04\n",
      "[13/50] Total loss:  7.2923e-04\n",
      "[14/50] Total loss:  6.9688e-04\n",
      "[15/50] Total loss:  6.9707e-04\n",
      "[16/50] Total loss:  6.8397e-04\n",
      "[17/50] Total loss:  6.6045e-04\n",
      "[18/50] Total loss:  6.6181e-04\n",
      "[19/50] Total loss:  6.2210e-04\n",
      "[20/50] Total loss:  6.2842e-04\tTotal loss:  26.1789\n",
      "[21/50] Total loss:  6.0909e-04\n",
      "[22/50] Total loss:  5.9045e-04\n",
      "[23/50] Total loss:  5.8136e-04\n",
      "[24/50] Total loss:  5.7426e-04\n",
      "[25/50] Total loss:  5.7162e-04\n",
      "[26/50] Total loss:  5.6155e-04\n",
      "[27/50] Total loss:  5.6309e-04\n",
      "[28/50] Total loss:  5.5419e-04\n",
      "[29/50] Total loss:  5.5134e-04\n",
      "[30/50] Total loss:  5.4954e-04\tTotal loss:  25.5521\n",
      "[31/50] Total loss:  5.4147e-04\n",
      "[32/50] Total loss:  5.3363e-04\n",
      "[33/50] Total loss:  5.2906e-04\n",
      "[34/50] Total loss:  5.2041e-04\n",
      "[35/50] Total loss:  5.1565e-04\n",
      "[36/50] Total loss:  5.0702e-04\n",
      "[37/50] Total loss:  4.9080e-04\n",
      "[38/50] Total loss:  4.9200e-04\n",
      "[39/50] Total loss:  4.6825e-04\n",
      "[40/50] Total loss:  4.6836e-04\tTotal loss:  24.4667\n",
      "[41/50] Total loss:  4.5098e-04\n",
      "[42/50] Total loss:  4.3703e-04\n",
      "[43/50] Total loss:  4.3542e-04\n",
      "[44/50] Total loss:  4.0895e-04\n",
      "[45/50] Total loss:  4.0237e-04\n",
      "[46/50] Total loss:  4.1285e-04\n",
      "[47/50] Total loss:  4.0192e-04\n",
      "[48/50] Total loss:  4.0093e-04\n",
      "[49/50] Total loss:  3.9959e-04\n",
      "[50/50] Total loss:  4.0444e-04\tTotal loss:  27.3957\n"
     ]
    }
   ],
   "source": [
    "train(net_lstm, train_loader, test_loader)"
   ]
  },
  {
   "cell_type": "code",
   "execution_count": 123,
   "metadata": {},
   "outputs": [
    {
     "name": "stdout",
     "output_type": "stream",
     "text": [
      "[1/50] Total loss:  1.6918e-04\n",
      "[2/50] Total loss:  8.4374e-05\n",
      "[3/50] Total loss:  7.0645e-05\n",
      "[4/50] Total loss:  6.5413e-05\n",
      "[5/50] Total loss:  5.9070e-05\n",
      "[6/50] Total loss:  5.3985e-05\n",
      "[7/50] Total loss:  5.1848e-05\n",
      "[8/50] Total loss:  5.0817e-05\n",
      "[9/50] Total loss:  4.8426e-05\n",
      "[10/50] Total loss:  4.6859e-05\tTotal loss:  12.6125\n",
      "[11/50] Total loss:  4.2882e-05\n",
      "[12/50] Total loss:  3.9838e-05\n",
      "[13/50] Total loss:  3.9208e-05\n",
      "[14/50] Total loss:  3.8140e-05\n",
      "[15/50] Total loss:  3.5244e-05\n",
      "[16/50] Total loss:  3.5860e-05\n",
      "[17/50] Total loss:  3.6567e-05\n",
      "[18/50] Total loss:  3.4088e-05\n",
      "[19/50] Total loss:  3.3418e-05\n",
      "[20/50] Total loss:  3.5801e-05\tTotal loss:  9.7230\n",
      "[21/50] Total loss:  3.3550e-05\n",
      "[22/50] Total loss:  3.3071e-05\n",
      "[23/50] Total loss:  3.2143e-05\n",
      "[24/50] Total loss:  3.2940e-05\n",
      "[25/50] Total loss:  3.2740e-05\n",
      "[26/50] Total loss:  3.2872e-05\n",
      "[27/50] Total loss:  3.1803e-05\n",
      "[28/50] Total loss:  3.2817e-05\n",
      "[29/50] Total loss:  3.1178e-05\n",
      "[30/50] Total loss:  3.1979e-05\tTotal loss:  11.1724\n",
      "[31/50] Total loss:  3.1343e-05\n",
      "[32/50] Total loss:  3.1459e-05\n",
      "[33/50] Total loss:  3.2127e-05\n",
      "[34/50] Total loss:  3.1358e-05\n",
      "[35/50] Total loss:  3.1318e-05\n",
      "[36/50] Total loss:  3.1850e-05\n",
      "[37/50] Total loss:  3.1144e-05\n",
      "[38/50] Total loss:  3.1095e-05\n",
      "[39/50] Total loss:  3.2029e-05\n",
      "[40/50] Total loss:  3.0673e-05\tTotal loss:  9.2939\n",
      "[41/50] Total loss:  3.0032e-05\n",
      "[42/50] Total loss:  3.0607e-05\n",
      "[43/50] Total loss:  3.1748e-05\n",
      "[44/50] Total loss:  3.0750e-05\n",
      "[45/50] Total loss:  3.1318e-05\n",
      "[46/50] Total loss:  3.1023e-05\n",
      "[47/50] Total loss:  3.0701e-05\n",
      "[48/50] Total loss:  3.1436e-05\n",
      "[49/50] Total loss:  3.0686e-05\n",
      "[50/50] Total loss:  3.1451e-05\tTotal loss:  8.7027\n"
     ]
    }
   ],
   "source": [
    "train(net, train_loader, test_loader)"
   ]
  },
  {
   "cell_type": "code",
   "execution_count": 124,
   "metadata": {},
   "outputs": [],
   "source": [
    "a,b = next(iter(test_loader))"
   ]
  },
  {
   "cell_type": "code",
   "execution_count": 129,
   "metadata": {},
   "outputs": [
    {
     "data": {
      "text/plain": [
       "<matplotlib.legend.Legend at 0x7f7d8ccd10c0>"
      ]
     },
     "execution_count": 129,
     "metadata": {},
     "output_type": "execute_result"
    },
    {
     "data": {
      "image/png": "[encoded data removed]",
      "text/plain": [
       "<Figure size 432x288 with 1 Axes>"
      ]
     },
     "metadata": {
      "needs_background": "light"
     },
     "output_type": "display_data"
    }
   ],
   "source": [
    "itm = 0\n",
    "b_inv = min_max.inverse(b[itm])\n",
    "with th.no_grad():\n",
    "    b_est_l = min_max.inverse(net_lstm(a)[itm])\n",
    "    b_est = min_max.inverse(net(a)[itm])\n",
    "    \n",
    "plt.plot(b_inv.flatten(), label='true')\n",
    "plt.plot(b_est_l.flatten(), label='old')\n",
    "plt.plot(b_est.flatten(), label='new')\n",
    "plt.legend()"
   ]
  },
  {
   "cell_type": "code",
   "execution_count": 10,
   "metadata": {},
   "outputs": [
    {
     "data": {
      "text/plain": [
       "===============================================================================================\n",
       "Layer (type:depth-idx)                        Output Shape              Param #\n",
       "===============================================================================================\n",
       "SCINet_block                                  --                        --\n",
       "├─SCI_block: 1-1                              [1, 1, 20]                --\n",
       "│    └─NN_block: 2-1                          [1, 1, 20]                --\n",
       "│    │    └─Sequential: 3-1                   [1, 1, 20]                56\n",
       "│    └─NN_block: 2-2                          [1, 1, 20]                --\n",
       "│    │    └─Sequential: 3-2                   [1, 1, 20]                56\n",
       "│    └─NN_block: 2-3                          [1, 1, 20]                --\n",
       "│    │    └─Sequential: 3-3                   [1, 1, 20]                56\n",
       "│    └─NN_block: 2-4                          [1, 1, 20]                --\n",
       "│    │    └─Sequential: 3-4                   [1, 1, 20]                56\n",
       "├─SCI_block: 1-2                              [1, 1, 10]                --\n",
       "│    └─NN_block: 2-5                          [1, 1, 10]                --\n",
       "│    │    └─Sequential: 3-5                   [1, 1, 10]                56\n",
       "│    └─NN_block: 2-6                          [1, 1, 10]                --\n",
       "│    │    └─Sequential: 3-6                   [1, 1, 10]                56\n",
       "│    └─NN_block: 2-7                          [1, 1, 10]                --\n",
       "│    │    └─Sequential: 3-7                   [1, 1, 10]                56\n",
       "│    └─NN_block: 2-8                          [1, 1, 10]                --\n",
       "│    │    └─Sequential: 3-8                   [1, 1, 10]                56\n",
       "├─SCI_block: 1-3                              [1, 1, 10]                --\n",
       "│    └─NN_block: 2-9                          [1, 1, 10]                --\n",
       "│    │    └─Sequential: 3-9                   [1, 1, 10]                56\n",
       "│    └─NN_block: 2-10                         [1, 1, 10]                --\n",
       "│    │    └─Sequential: 3-10                  [1, 1, 10]                56\n",
       "│    └─NN_block: 2-11                         [1, 1, 10]                --\n",
       "│    │    └─Sequential: 3-11                  [1, 1, 10]                56\n",
       "│    └─NN_block: 2-12                         [1, 1, 10]                --\n",
       "│    │    └─Sequential: 3-12                  [1, 1, 10]                56\n",
       "├─Linear: 1-4                                 [1, 1, 10]                410\n",
       "===============================================================================================\n",
       "Total params: 1,082\n",
       "Trainable params: 1,082\n",
       "Non-trainable params: 0\n",
       "Total mult-adds (M): 0.01\n",
       "===============================================================================================\n",
       "Input size (MB): 0.00\n",
       "Forward/backward pass size (MB): 0.01\n",
       "Params size (MB): 0.00\n",
       "Estimated Total Size (MB): 0.01\n",
       "==============================================================================================="
      ]
     },
     "execution_count": 10,
     "metadata": {},
     "output_type": "execute_result"
    }
   ],
   "source": [
    "summary(s, (1,1,40))"
   ]
  },
  {
   "cell_type": "code",
   "execution_count": null,
   "metadata": {},
   "outputs": [],
   "source": []
  }
 ],
 "metadata": {
  "interpreter": {
   "hash": "e7370f93d1d0cde622a1f8e1c04877d8463912d04d973331ad4851f04de6915a"
  },
  "kernelspec": {
   "display_name": "Python 3 (ipykernel)",
   "language": "python",
   "name": "python3"
  },
  "language_info": {
   "codemirror_mode": {
    "name": "ipython",
    "version": 3
   },
   "file_extension": ".py",
   "mimetype": "text/x-python",
   "name": "python",
   "nbconvert_exporter": "python",
   "pygments_lexer": "ipython3",
   "version": "3.10.1"
  }
 },
 "nbformat": 4,
 "nbformat_minor": 2
}
